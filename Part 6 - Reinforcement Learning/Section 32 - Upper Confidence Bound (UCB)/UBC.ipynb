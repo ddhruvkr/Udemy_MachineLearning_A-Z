{
 "cells": [
  {
   "cell_type": "code",
   "execution_count": 1,
   "metadata": {
    "collapsed": true
   },
   "outputs": [],
   "source": [
    "import numpy as np\n",
    "import matplotlib.pyplot as plt\n",
    "import pandas as pd\n",
    "\n",
    "# Importing the dataset\n",
    "dataset = pd.read_csv('Ads_CTR_Optimisation.csv')"
   ]
  },
  {
   "cell_type": "code",
   "execution_count": 20,
   "metadata": {
    "collapsed": false
   },
   "outputs": [
    {
     "name": "stdout",
     "output_type": "stream",
     "text": [
      "2178\n",
      "[705, 387, 186, 345, 6323, 150, 292, 1170, 256, 186]\n"
     ]
    }
   ],
   "source": [
    "import math\n",
    "ads = 10\n",
    "users = 10000\n",
    "totalRewards = 0\n",
    "adSelected = []\n",
    "numberOfSelections = [0] * ads\n",
    "sumOfRewards = [0] * ads\n",
    "for user in range(0, users):\n",
    "    maxUpperBound = 0\n",
    "    for ad in range(0, ads):\n",
    "        if (numberOfSelections[ad] != 0):\n",
    "            averageReward = sumOfRewards[ad]/numberOfSelections[ad]\n",
    "            delta = math.sqrt(3/2*math.log(user+1)/numberOfSelections[ad])\n",
    "            upperBound = averageReward + delta\n",
    "        else:\n",
    "            upperBound = 1e400\n",
    "        if maxUpperBound < upperBound:\n",
    "            maxUpperBound = upperBound\n",
    "            indexOfMaxUpperBound = ad\n",
    "    adSelected.append(indexOfMaxUpperBound)\n",
    "    totalRewards += dataset.values[user][indexOfMaxUpperBound]\n",
    "    numberOfSelections[indexOfMaxUpperBound] += 1\n",
    "    sumOfRewards[indexOfMaxUpperBound] += dataset.values[user][indexOfMaxUpperBound]\n",
    "print(totalRewards)\n",
    "#print(adSelected)\n",
    "print(numberOfSelections)"
   ]
  },
  {
   "cell_type": "code",
   "execution_count": 22,
   "metadata": {
    "collapsed": false
   },
   "outputs": [
    {
     "data": {
      "image/png": "[encoded data removed]",
      "text/plain": [
       "<matplotlib.figure.Figure at 0x10e64ffd0>"
      ]
     },
     "metadata": {},
     "output_type": "display_data"
    }
   ],
   "source": [
    "plt.hist(adSelected)\n",
    "plt.show()"
   ]
  },
  {
   "cell_type": "code",
   "execution_count": null,
   "metadata": {
    "collapsed": true
   },
   "outputs": [],
   "source": []
  }
 ],
 "metadata": {
  "kernelspec": {
   "display_name": "Python 3",
   "language": "python",
   "name": "python3"
  },
  "language_info": {
   "codemirror_mode": {
    "name": "ipython",
    "version": 3
   },
   "file_extension": ".py",
   "mimetype": "text/x-python",
   "name": "python",
   "nbconvert_exporter": "python",
   "pygments_lexer": "ipython3",
   "version": "3.6.0"
  }
 },
 "nbformat": 4,
 "nbformat_minor": 2
}
