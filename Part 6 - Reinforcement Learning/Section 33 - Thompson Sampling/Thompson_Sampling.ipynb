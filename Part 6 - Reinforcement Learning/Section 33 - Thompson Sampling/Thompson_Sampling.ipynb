{
 "cells": [
  {
   "cell_type": "code",
   "execution_count": 1,
   "metadata": {
    "collapsed": true
   },
   "outputs": [],
   "source": [
    "import numpy as np\n",
    "import matplotlib.pyplot as plt\n",
    "import pandas as pd\n",
    "\n",
    "# Importing the dataset\n",
    "dataset = pd.read_csv('Ads_CTR_Optimisation.csv')"
   ]
  },
  {
   "cell_type": "code",
   "execution_count": 7,
   "metadata": {
    "collapsed": false
   },
   "outputs": [
    {
     "name": "stdout",
     "output_type": "stream",
     "text": [
      "2619\n"
     ]
    }
   ],
   "source": [
    "import random\n",
    "ads = 10\n",
    "users = 10000\n",
    "totalRewards = 0\n",
    "adSelected = []\n",
    "numberOfRewards_0 = [0] * ads\n",
    "numberOfRewards_1 = [0] * ads\n",
    "for user in range(0, users):\n",
    "    maxRandom = 0\n",
    "    for ad in range(0, ads):\n",
    "        randomProbability = random.betavariate(numberOfRewards_1[ad] + 1, numberOfRewards_0[ad] + 1)\n",
    "        if maxRandom < randomProbability:\n",
    "            maxRandom = randomProbability\n",
    "            selectedAdIndex = ad\n",
    "    adSelected.append(selectedAdIndex)\n",
    "    reward = dataset.values[user][selectedAdIndex]\n",
    "    totalRewards += reward\n",
    "    if reward == 1:\n",
    "        numberOfRewards_1[selectedAdIndex] += 1\n",
    "    else:\n",
    "        numberOfRewards_0[selectedAdIndex] += 1\n",
    "    \n",
    "print(totalRewards)\n",
    "#print(adSelected)"
   ]
  },
  {
   "cell_type": "code",
   "execution_count": 8,
   "metadata": {
    "collapsed": false
   },
   "outputs": [
    {
     "data": {
      "image/png": "[encoded data removed]",
      "text/plain": [
       "<matplotlib.figure.Figure at 0x118807c50>"
      ]
     },
     "metadata": {},
     "output_type": "display_data"
    }
   ],
   "source": [
    "plt.hist(adSelected)\n",
    "plt.show()"
   ]
  },
  {
   "cell_type": "code",
   "execution_count": null,
   "metadata": {
    "collapsed": true
   },
   "outputs": [],
   "source": []
  }
 ],
 "metadata": {
  "kernelspec": {
   "display_name": "Python 3",
   "language": "python",
   "name": "python3"
  },
  "language_info": {
   "codemirror_mode": {
    "name": "ipython",
    "version": 3
   },
   "file_extension": ".py",
   "mimetype": "text/x-python",
   "name": "python",
   "nbconvert_exporter": "python",
   "pygments_lexer": "ipython3",
   "version": "3.6.0"
  }
 },
 "nbformat": 4,
 "nbformat_minor": 2
}
